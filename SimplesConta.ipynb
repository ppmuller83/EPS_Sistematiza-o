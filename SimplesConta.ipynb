{
 "cells": [
  {
   "cell_type": "markdown",
   "id": "5bf694df",
   "metadata": {},
   "source": [
    "# SimplesConta\n",
    "Seja bem vindo ao SimplesConta!\n",
    "\n",
    "Aqui buscamos, por meio de uma ferramenta simples, te ajudar a registrar receitas e despesas, acompanhar saldo mensal e gerar relatórios financeiros."
   ]
  },
  {
   "cell_type": "code",
   "execution_count": 1,
   "id": "a51df0af",
   "metadata": {},
   "outputs": [],
   "source": [
    "import tkinter as tk\n",
    "from tkinter import messagebox\n",
    "from tkinter import ttk\n",
    "from datetime import datetime\n",
    "import csv\n",
    "import os\n",
    "import matplotlib.pyplot as plt\n",
    "from collections import defaultdict"
   ]
  },
  {
   "cell_type": "code",
   "execution_count": 2,
   "id": "0518458d",
   "metadata": {},
   "outputs": [],
   "source": [
    "# Lista para armazenar as transações\n",
    "transacoes = []"
   ]
  },
  {
   "cell_type": "code",
   "execution_count": 3,
   "id": "ae73c985",
   "metadata": {},
   "outputs": [],
   "source": [
    "# Categorias pré-definidas\n",
    "categorias_padrao = [\"Salário\", \"Alimentação\", \"Transporte\", \"Lazer\", \"Educação\", \"Outros\"]"
   ]
  },
  {
   "cell_type": "code",
   "execution_count": 4,
   "id": "5e03c78d",
   "metadata": {},
   "outputs": [],
   "source": [
    "# Caminho do arquivo CSV\n",
    "ARQUIVO_DADOS = \"transacoes.csv\""
   ]
  },
  {
   "cell_type": "code",
   "execution_count": 5,
   "id": "eb6bf27c",
   "metadata": {},
   "outputs": [],
   "source": [
    "# Função para carregar dados do CSV\n",
    "def carregar_dados():\n",
    "    if os.path.exists(ARQUIVO_DADOS):\n",
    "        with open(ARQUIVO_DADOS, mode='r', newline='') as file:\n",
    "            reader = csv.DictReader(file)\n",
    "            for row in reader:\n",
    "                row['valor'] = float(row['valor'])\n",
    "                transacoes.append(row)\n",
    "        atualizar_lista()\n",
    "        atualizar_saldo()"
   ]
  },
  {
   "cell_type": "code",
   "execution_count": 6,
   "id": "0275e8bc",
   "metadata": {},
   "outputs": [],
   "source": [
    "# Função para salvar dados no CSV\n",
    "def salvar_dados():\n",
    "    with open(ARQUIVO_DADOS, mode='w', newline='') as file:\n",
    "        campos = [\"tipo\", \"valor\", \"categoria\", \"descricao\", \"data\"]\n",
    "        writer = csv.DictWriter(file, fieldnames=campos)\n",
    "        writer.writeheader()\n",
    "        for t in transacoes:\n",
    "            writer.writerow(t)"
   ]
  },
  {
   "cell_type": "code",
   "execution_count": 7,
   "id": "f329f83c",
   "metadata": {},
   "outputs": [],
   "source": [
    "# Função para adicionar transação\n",
    "def adicionar_transacao():\n",
    "    tipo = tipo_var.get()\n",
    "    valor = valor_entry.get()\n",
    "    categoria = categoria_combo.get()\n",
    "    descricao = descricao_entry.get()\n",
    "\n",
    "    try:\n",
    "        valor = float(valor)\n",
    "        data = datetime.now().strftime(\"%d/%m/%Y\")\n",
    "        transacao = {\n",
    "            \"tipo\": tipo,\n",
    "            \"valor\": valor,\n",
    "            \"categoria\": categoria,\n",
    "            \"descricao\": descricao,\n",
    "            \"data\": data\n",
    "        }\n",
    "        transacoes.append(transacao)\n",
    "        salvar_dados()\n",
    "        atualizar_lista()\n",
    "        atualizar_saldo()\n",
    "        limpar_campos()\n",
    "    except ValueError:\n",
    "        messagebox.showerror(\"Erro\", \"Digite um valor válido.\")"
   ]
  },
  {
   "cell_type": "code",
   "execution_count": 8,
   "id": "f7cc9545",
   "metadata": {},
   "outputs": [],
   "source": [
    "# Atualiza a lista de transações\n",
    "def atualizar_lista(filtro_data=None, filtro_tipo=None):\n",
    "    lista_transacoes.delete(0, tk.END)\n",
    "    for t in transacoes:\n",
    "        if (filtro_data and filtro_data not in t['data']) or (filtro_tipo and filtro_tipo != t['tipo']):\n",
    "            continue\n",
    "        lista_transacoes.insert(tk.END, f\"{t['data']} - {t['tipo']} - R${t['valor']:.2f} - {t['categoria']} - {t['descricao']}\")"
   ]
  },
  {
   "cell_type": "code",
   "execution_count": 9,
   "id": "d5cb6082",
   "metadata": {},
   "outputs": [],
   "source": [
    "# Calcula e atualiza o saldo\n",
    "def atualizar_saldo():\n",
    "    saldo = 0\n",
    "    for t in transacoes:\n",
    "        if t['tipo'] == 'Receita':\n",
    "            saldo += t['valor']\n",
    "        else:\n",
    "            saldo -= t['valor']\n",
    "    saldo_label.config(text=f\"Saldo Atual: R${saldo:.2f}\")"
   ]
  },
  {
   "cell_type": "code",
   "execution_count": 10,
   "id": "3ba0e096",
   "metadata": {},
   "outputs": [],
   "source": [
    "# Limpa os campos do formulário\n",
    "def limpar_campos():\n",
    "    valor_entry.delete(0, tk.END)\n",
    "    categoria_combo.set('')\n",
    "    descricao_entry.delete(0, tk.END)"
   ]
  },
  {
   "cell_type": "code",
   "execution_count": 11,
   "id": "aca44a4b",
   "metadata": {},
   "outputs": [],
   "source": [
    "# Função para aplicar filtros\n",
    "def aplicar_filtros():\n",
    "    data = filtro_data_entry.get()\n",
    "    tipo = filtro_tipo_combo.get()\n",
    "    if tipo == 'Todos':\n",
    "        tipo = None\n",
    "    atualizar_lista(filtro_data=data if data else None, filtro_tipo=tipo)"
   ]
  },
  {
   "cell_type": "code",
   "execution_count": 12,
   "id": "f22b0616",
   "metadata": {},
   "outputs": [],
   "source": [
    "# Função para exibir gráfico de despesas por categoria\n",
    "def mostrar_grafico():\n",
    "    categorias = defaultdict(float)\n",
    "    for t in transacoes:\n",
    "        if t['tipo'] == 'Despesa':\n",
    "            categorias[t['categoria']] += t['valor']\n",
    "\n",
    "    if categorias:\n",
    "        labels = list(categorias.keys())\n",
    "        valores = list(categorias.values())\n",
    "\n",
    "        plt.figure(figsize=(6, 6))\n",
    "        plt.pie(valores, labels=labels, autopct='%1.1f%%', startangle=90)\n",
    "        plt.title('Distribuição de Despesas por Categoria')\n",
    "        plt.axis('equal')\n",
    "        plt.show()\n",
    "    else:\n",
    "        messagebox.showinfo(\"Info\", \"Nenhuma despesa cadastrada para exibir o gráfico.\")"
   ]
  },
  {
   "cell_type": "code",
   "execution_count": 13,
   "id": "03a6e4bd",
   "metadata": {
    "scrolled": false
   },
   "outputs": [
    {
     "data": {
      "text/plain": [
       "''"
      ]
     },
     "execution_count": 13,
     "metadata": {},
     "output_type": "execute_result"
    }
   ],
   "source": [
    "app = tk.Tk()\n",
    "app.title(\"Gestão Financeira Pessoal\")"
   ]
  },
  {
   "cell_type": "code",
   "execution_count": 14,
   "id": "9fd66ce3",
   "metadata": {},
   "outputs": [],
   "source": [
    "# Adicionando cabeçalho\n",
    "header_label = tk.Label(app, text=\"Seja bem-vindo ao SimplesConta!\", font=(\"Arial\", 16, \"bold\"))\n",
    "header_label.grid(row=0, column=0, columnspan=3, pady=10)"
   ]
  },
  {
   "cell_type": "code",
   "execution_count": 15,
   "id": "dfb2dd10",
   "metadata": {},
   "outputs": [],
   "source": [
    "# Adicionando texto inicial\n",
    "intro_label = tk.Label(app, text=\"Aqui buscamos, por meio de uma ferramenta simples, te ajudar a registrar receitas e despesas, acompanhar saldo mensal e gerar relatórios financeiros.\",\n",
    "                       wraplength=400, justify=\"left\", font=(\"Arial\", 12))\n",
    "intro_label.grid(row=1, column=0, columnspan=3, pady=5)"
   ]
  },
  {
   "cell_type": "code",
   "execution_count": 16,
   "id": "65725fa3",
   "metadata": {},
   "outputs": [],
   "source": [
    "# Tipo de transação\n",
    "tipo_var = tk.StringVar(value=\"Despesa\")\n",
    "tk.Label(app, text=\"Tipo:\").grid(row=13, column=0)\n",
    "tk.Radiobutton(app, text=\"Receita\", variable=tipo_var, value=\"Receita\").grid(row=12, column=1)\n",
    "tk.Radiobutton(app, text=\"Despesa\", variable=tipo_var, value=\"Despesa\").grid(row=12, column=2)"
   ]
  },
  {
   "cell_type": "code",
   "execution_count": 17,
   "id": "3a484317",
   "metadata": {},
   "outputs": [],
   "source": [
    "# Campo valor\n",
    "tk.Label(app, text=\"Valor:\").grid(row=13, column=0)\n",
    "valor_entry = tk.Entry(app)\n",
    "valor_entry.grid(row=13, column=1, columnspan=2)"
   ]
  },
  {
   "cell_type": "code",
   "execution_count": 18,
   "id": "f8776f85",
   "metadata": {},
   "outputs": [],
   "source": [
    "# Campo categoria\n",
    "tk.Label(app, text=\"Categoria:\").grid(row=14, column=0)\n",
    "categoria_combo = ttk.Combobox(app, values=categorias_padrao)\n",
    "categoria_combo.grid(row=14, column=1, columnspan=2)"
   ]
  },
  {
   "cell_type": "code",
   "execution_count": 19,
   "id": "0ed9afd0",
   "metadata": {},
   "outputs": [],
   "source": [
    "# Campo descrição\n",
    "tk.Label(app, text=\"Descrição:\").grid(row=15, column=0)\n",
    "descricao_entry = tk.Entry(app)\n",
    "descricao_entry.grid(row=15, column=1, columnspan=2)"
   ]
  },
  {
   "cell_type": "code",
   "execution_count": 20,
   "id": "1dbd1127",
   "metadata": {},
   "outputs": [],
   "source": [
    "# Botão adicionar\n",
    "tk.Button(app, text=\"Adicionar Transação\", command=adicionar_transacao).grid(row=18, column=0, columnspan=3)"
   ]
  },
  {
   "cell_type": "code",
   "execution_count": 21,
   "id": "eb1d67e5",
   "metadata": {},
   "outputs": [],
   "source": [
    "# Filtros\n",
    "tk.Label(app, text=\"Filtrar por data (dd/mm/aaaa):\").grid(row=20, column=0)\n",
    "filtro_data_entry = tk.Entry(app)\n",
    "filtro_data_entry.grid(row=20, column=1)\n",
    "\n",
    "filtro_tipo_combo = ttk.Combobox(app, values=[\"Todos\", \"Receita\", \"Despesa\"])\n",
    "filtro_tipo_combo.set(\"Todos\")\n",
    "filtro_tipo_combo.grid(row=21, column=2)\n",
    "tk.Button(app, text=\"Aplicar Filtros\", command=aplicar_filtros).grid(row=21, column=0, columnspan=3)"
   ]
  },
  {
   "cell_type": "code",
   "execution_count": 22,
   "id": "2f7244da",
   "metadata": {},
   "outputs": [],
   "source": [
    "# Lista de transações\n",
    "lista_transacoes = tk.Listbox(app, width=80)\n",
    "lista_transacoes.grid(row=23, column=0, columnspan=3)"
   ]
  },
  {
   "cell_type": "code",
   "execution_count": 23,
   "id": "50274465",
   "metadata": {},
   "outputs": [],
   "source": [
    "# Saldo\n",
    "saldo_label = tk.Label(app, text=\"Saldo Atual: R$0.00\")\n",
    "saldo_label.grid(row=24, column=0, columnspan=3)"
   ]
  },
  {
   "cell_type": "code",
   "execution_count": 24,
   "id": "baa0756a",
   "metadata": {},
   "outputs": [],
   "source": [
    "# Botão gráfico\n",
    "tk.Button(app, text=\"Mostrar Gráfico de Despesas\", command=mostrar_grafico).grid(row=9, column=0, columnspan=3, pady=10)"
   ]
  },
  {
   "cell_type": "code",
   "execution_count": 25,
   "id": "1050ddde",
   "metadata": {},
   "outputs": [],
   "source": [
    "# Iniciar aplicação\n",
    "carregar_dados()\n",
    "app.mainloop()"
   ]
  },
  {
   "cell_type": "code",
   "execution_count": null,
   "id": "4f3dea57",
   "metadata": {},
   "outputs": [],
   "source": []
  }
 ],
 "metadata": {
  "kernelspec": {
   "display_name": "Python 3 (ipykernel)",
   "language": "python",
   "name": "python3"
  },
  "language_info": {
   "codemirror_mode": {
    "name": "ipython",
    "version": 3
   },
   "file_extension": ".py",
   "mimetype": "text/x-python",
   "name": "python",
   "nbconvert_exporter": "python",
   "pygments_lexer": "ipython3",
   "version": "3.11.5"
  }
 },
 "nbformat": 4,
 "nbformat_minor": 5
}
